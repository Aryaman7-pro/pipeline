{
 "cells": [
  {
   "cell_type": "code",
   "execution_count": null,
   "metadata": {},
   "outputs": [
    {
     "name": "stdout",
     "output_type": "stream",
     "text": [
      "MATCH (p1:Product {sku: \"47-63-621-64\"}), (p2:Product {sku: \"47-65-121-30\"}) RETURN p1.price AS price1, p2.price AS price2, p1.price - p2.price AS price_differenceThe price of sku id 47-63-621-64 is 3.11 and the price of sku id 47-65-121-30 is 2.74. The price difference is 0.37. \n",
      "None\n"
     ]
    }
   ],
   "source": [
    "from langchain_groq import ChatGroq\n",
    "from langchain_community.graphs import Neo4jGraph\n",
    "from langchain.chains import GraphCypherQAChain\n",
    "from langchain.prompts import ChatPromptTemplate, SystemMessagePromptTemplate, HumanMessagePromptTemplate\n",
    "from langchain.callbacks.base import BaseCallbackHandler\n",
    "\n",
    "class CustomStreamingCallbackHandler(BaseCallbackHandler):\n",
    "    def __init__(self):\n",
    "        self.final_output = \"\"\n",
    "\n",
    "    def on_llm_new_token(self, token: str, **kwargs) -> None:\n",
    "        # Stream tokens as they come in\n",
    "        print(token, end=\"\", flush=True)  # Output directly to the console for real-time streaming\n",
    "        self.final_output += token\n",
    "\n",
    "    def get_final_output(self):\n",
    "        # Return the full response once streaming is complete\n",
    "        return self.final_output.strip()\n",
    "\n",
    "class CSVPipeline:\n",
    "    def __init__(self, llm=None, retriever=None, prompt=None):\n",
    "        self.llm = llm\n",
    "        self.retriever = retriever\n",
    "        self.prompt = prompt\n",
    "        self.callback_handler = CustomStreamingCallbackHandler()\n",
    "\n",
    "    def defineLLM(self, key, model_name=\"Gemma2-9b-It\"):\n",
    "        self.llm = ChatGroq(\n",
    "            groq_api_key=key,\n",
    "            model_name=model_name,\n",
    "            streaming=True,\n",
    "            callbacks=[self.callback_handler]\n",
    "        )\n",
    "\n",
    "    def retrieval(self):\n",
    "        NEO4J_URI = \"neo4j+s://7a76cce7.databases.neo4j.io\"\n",
    "        NEO4J_USERNAME = \"neo4j\"\n",
    "        NEO4J_PASSWORD = \"iLflxvMlzC8QtxKRYA3cIIEDiR_PzH4vfsLQS08RJXY\"\n",
    "        graph = Neo4jGraph(url=NEO4J_URI, username=NEO4J_USERNAME, password=NEO4J_PASSWORD)\n",
    "        self.retriever = GraphCypherQAChain.from_llm(llm=self.llm, graph=graph, verbose=True, allow_dangerous_requests=True)\n",
    "\n",
    "    def answer(self, prompt):\n",
    "        system_message = SystemMessagePromptTemplate.from_template(\"You are a helpful assistant. Please give the exact answers.\")\n",
    "        human_message = HumanMessagePromptTemplate.from_template(\"{input}\")\n",
    "        chat_prompt = ChatPromptTemplate.from_messages([system_message, human_message])\n",
    "        formatted_prompt = chat_prompt.format_messages(input=prompt)\n",
    "\n",
    "        if self.retriever is not None:\n",
    "            self.retriever.run(formatted_prompt)\n",
    "        else:\n",
    "            raise ValueError(\"Retriever is not defined. Please ensure the LLM and retrieval chain are set up first.\")\n",
    "\n",
    "\n",
    " \n",
    " \n",
    "pipeline = CSVPipeline()\n",
    "pipeline.defineLLM(\"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\", \"Gemma2-9b-It\")\n",
    "pipeline.retrieval()\n",
    " \n",
    "print(pipeline.answer(\"Give me the price and the difference between price of sku id 47-63-621-64 and sku id 47-65-121-30\"))"
   ]
  },
  {
   "cell_type": "code",
   "execution_count": null,
   "metadata": {},
   "outputs": [],
   "source": []
  }
 ],
 "metadata": {
  "kernelspec": {
   "display_name": "venv",
   "language": "python",
   "name": "python3"
  },
  "language_info": {
   "codemirror_mode": {
    "name": "ipython",
    "version": 3
   },
   "file_extension": ".py",
   "mimetype": "text/x-python",
   "name": "python",
   "nbconvert_exporter": "python",
   "pygments_lexer": "ipython3",
   "version": "3.11.9"
  }
 },
 "nbformat": 4,
 "nbformat_minor": 2
}
